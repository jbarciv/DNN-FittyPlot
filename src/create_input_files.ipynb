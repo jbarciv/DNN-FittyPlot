{
 "cells": [
  {
   "cell_type": "markdown",
   "id": "19dab09c",
   "metadata": {},
   "source": [
    "# Code for automating the launching process using Slurm on a GPU cluster\n",
    "**Author:** Josep María Barbéra Civera\n",
    "\n",
    "**Date:** September 2022\n",
    "\n",
    "Based on similar implementation by Thomas Isensee"
   ]
  },
  {
   "cell_type": "code",
   "execution_count": 1,
   "id": "3ae431d1",
   "metadata": {},
   "outputs": [
    {
     "name": "stdout",
     "output_type": "stream",
     "text": [
      "3.5.3\n"
     ]
    }
   ],
   "source": [
    "import os\n",
    "import numpy as np\n",
    "from scipy.interpolate import griddata\n",
    "from scipy import special\n",
    "from scipy import signal\n",
    "from scipy.optimize import curve_fit\n",
    "from math import log10,log\n",
    "\n",
    "\n",
    "import matplotlib as mpl\n",
    "import matplotlib.pyplot as plt\n",
    "import matplotlib.gridspec as gridspec\n",
    "import matplotlib.patches as mpatches\n",
    "from matplotlib.collections import PatchCollection\n",
    "from matplotlib.patches import ConnectionPatch\n",
    "from mpl_toolkits.mplot3d import Axes3D\n",
    "from matplotlib import cm\n",
    "from mpl_toolkits.axes_grid1 import make_axes_locatable\n",
    "from matplotlib.lines import Line2D\n",
    "import matplotlib.image as mpimg\n",
    "\n",
    "from scipy import special\n",
    "from scipy.special import exp1\n",
    "import scipy.optimize as opt\n",
    "\n",
    "import math\n",
    "\n",
    "# import vtk\n",
    "# from vtk.util.numpy_support import vtk_to_numpy\n",
    "# print(mpl.__version__)"
   ]
  },
  {
   "cell_type": "markdown",
   "id": "b45dff74",
   "metadata": {},
   "source": [
    "### Template for the *input file* used in our simulations.\n",
    "You should use you own template here"
   ]
  },
  {
   "cell_type": "code",
   "execution_count": 2,
   "id": "73782bd4",
   "metadata": {},
   "outputs": [],
   "source": [
    "input_template = '''10\t\tnumber of file outputs \n",
    "10000\tnumber of needle tracking outputs\n",
    "0\t\tnumber of needles tracked (if <=0: auto x_max and y_max)\n",
    "0\t\tcompress results files to *.tar.gz\n",
    "1\t\tverbosity: 0 = Nothing ; 1 = Files I/O ; 2 = Time iterations\n",
    "\n",
    "630\t\tnumber of grid points in x-direction (including 2 for BC)\n",
    "510\t\tnumber of grid points in y-direction (including 2 for BC)\n",
    "1.00\tdelta_x\n",
    "\n",
    "600.\tt_end: final time / (s)\n",
    ".5 \t\ttau:   safety factor for time step adaptation\n",
    "\n",
    "1000\titermax: maximal number of pressure iterations in one time step\n",
    ".001\teps :    stopping tolerance for pressure iteration\n",
    "1.1\t\tomg :    relaxation parameter for SOR iteration\n",
    ".9\t\tgamma:   upwind differencing factor   \n",
    "\n",
    "2.e-5\tVelocity / (m/s)\n",
    "1.e4\tGradient / (K/m\n",
    "4.\t\tComposition / (wt%)\n",
    "1.5e-9\tDiffusion / (m^2/s)\n",
    ".14\t\tPartition\n",
    "1.6\t\tLiquidus slope / (K/wt%)    (>0)\n",
    "2.4e-7\tGibbs-Thomson coefficient / (Km)\n",
    ".02\t\tAnisotropy\n",
    "-1\t\tSigma\n",
    "5.7e-7\tν: Viscosity is / (m^2/s)\n",
    ".01\t\tbetaC: solutal coefficient of volume expansion (0 if no buoyancy)\n",
    "0.\t\tbetaT: thermal coefficient of volume expansion (0 if no buoyancy)\n",
    "0.\t\tGX:   volume forces, e.g. gravity / (m/s^2)       \n",
    "9.81\tGY  / (m/s^2)\n",
    "\n",
    "0.\t\tΔ_0: fields initial values\n",
    "0.\t\tu_0\n",
    "0.\t\tv_0 "
   ]
  },
  {
   "cell_type": "markdown",
   "id": "fbb371d3",
   "metadata": {},
   "source": [
    "## Creating files"
   ]
  },
  {
   "cell_type": "markdown",
   "id": "28aea728",
   "metadata": {},
   "source": [
    "### Function for creating the *run file*: it is the .sh file for launching simulations from Slurm\n",
    "Here, we are modifying the content and adapting it to the necessary changes for other simulations."
   ]
  },
  {
   "cell_type": "code",
   "execution_count": 4,
   "id": "cd447335",
   "metadata": {},
   "outputs": [],
   "source": [
    "\n",
    "def create_run_file(path, server, gpu, executable_name, executables_path, jobname):\n",
    "    original_string = \"\"\"#!/bin/bash\n",
    "\n",
    "    #\n",
    "    #--------- Specify:: NAME for the GPU job -------------\n",
    "    #SBATCH --job-name=\"b01\"\n",
    "    #SBATCH --output=\"b01.out\"\n",
    "\n",
    "    #--------------- Specify:: NODE and GPU to run the job on -------------\n",
    "    #SBATCH --partition=\"GPU-RTX3090\"\n",
    "    #SBATCH --nodelist=\"ironman\"\n",
    "    #SBATCH --gres=gpu:gpu0:1\n",
    "\n",
    "    module load gcc/8.2.0\n",
    "    module load cuda10.1/toolkit/10.1.243\n",
    "    ../DevDNNFF3DISO b01 0\"\"\"\n",
    "    \n",
    "    original_string = original_string.splitlines()\n",
    "    \n",
    "    filename_out = path + '/' + jobname + '.sh'\n",
    "    file_out = open(filename_out, \"w\")\n",
    "\n",
    "    ### keys to replace\n",
    "    key0 = '#SBATCH --job-name=\"b01\"'\n",
    "    replace0 = '#SBATCH --job-name=\"' + jobname + '\"'\n",
    "    \n",
    "    key1 = '#SBATCH --output=\"b01.out\"'\n",
    "    replace1 = '#SBATCH --output=\"' + jobname + '.out\"'\n",
    "    \n",
    "    key20 = '#SBATCH --partition=\"'\n",
    "    if (server == 'hulk'):\n",
    "        replace21 = '#SBATCH --partition=\"Hulk\"'\n",
    "    elif (server == 'thor' or server == 'ironman'):\n",
    "        replace21 = '#SBATCH --partition=\"GPU-RTX3090\"'\n",
    "    elif (server == 'obelix'):\n",
    "        replace21 = '#SBATCH --partition=\"Obelix\"'\n",
    "    elif (server == 'asterix'):\n",
    "        replace21 = '#SBATCH --partition=\"Asterix\"'\n",
    "    else:\n",
    "        print('Specify server!')\n",
    "\n",
    "    key30 = '#SBATCH --nodelist='\n",
    "    replace31 = '#SBATCH --nodelist=\"' + server + '\"'\n",
    "        \n",
    "    key4 = '#SBATCH --gres=gpu:gpu0:1'\n",
    "    if (server == 'obelix'):\n",
    "        replace4 = '#SBATCH --gres=gpu:1'\n",
    "    else:\n",
    "        replace4 = '#SBATCH --gres=gpu:gpu' + str(gpu) + ':1'\n",
    "    \n",
    "    key5 = 'module load cuda10.1/toolkit/10.1.243'    \n",
    "    key6 = '../DevDNNFF3DISO b01 0'\n",
    "        \n",
    "    if(server == 'thor' or server == 'ironman'):\n",
    "        replace5 = 'module load cuda11.2/toolkit/11.2.2'\n",
    "        replace6 = executables_path + '/' + executable_name + ' ' + jobname + ' 0'\n",
    "        \n",
    "    if(server == 'obelix' or server == 'asterix' or server == 'hulk'):\n",
    "        replace5 = 'module load cuda10.1/toolkit/10.1.243'\n",
    "        replace6 = executables_path + '/' + executable_name + ' ' + jobname + ' 0'\n",
    "\n",
    "    for line in original_string:\n",
    "        line = line.strip()\n",
    "        #print(line)\n",
    "\n",
    "        if(key0 in line):\n",
    "            changes0 = line.replace(key0, replace0)\n",
    "        elif(key1 in line):\n",
    "            changes0 = line.replace(key1, replace1)\n",
    "        elif(key20 in line):\n",
    "            changes0 = replace21\n",
    "        elif(key30 in line):\n",
    "            changes0 = replace31\n",
    "        elif(key4 in line):\n",
    "            changes0 = line.replace(key4, replace4)\n",
    "        elif(key5 in line):\n",
    "            changes0 = line.replace(key5, replace5)\n",
    "        elif(key6 in line):\n",
    "            changes0 = line.replace(key6, replace6)\n",
    "        else:\n",
    "            changes0 = line\n",
    "            \n",
    "        file_out.write(changes0 + '\\n')\n",
    "        \n",
    "    file_out.close()\n"
   ]
  },
  {
   "cell_type": "markdown",
   "id": "af4034fc",
   "metadata": {},
   "source": [
    "### Function to modify the *input file* template from above and adapt it to the necessary changes for other simulations.\n",
    "You will need to adapt it to your own variables and simulations parameters."
   ]
  },
  {
   "cell_type": "code",
   "execution_count": 5,
   "id": "099e33fb",
   "metadata": {},
   "outputs": [],
   "source": [
    "def create_input_file(path, Velocity, needle_number, dx, Nx, Ny, time, Difussion, partition, jobname):\n",
    "    filename_out = path + '/' + jobname + '.in'\n",
    "    file_out = open(filename_out, \"w\")\n",
    "    \n",
    "    ### keys to replace\n",
    "    \n",
    "    key0 = 'number of grid points in x-direction (including 2 for BC)'\n",
    "    replace0 = str(Nx) + '\tnumber of grid points in x-direction (including 2 for BC)'\n",
    "    \n",
    "    key1 = 'number of grid points in y-direction (including 2 for BC)'\n",
    "    replace1 = str(Ny) + '\tnumber of grid points in y-direction (including 2 for BC)'\n",
    "    \n",
    "    key2 = 'delta_x'\n",
    "    replace2 = str(dx) + '\t\tdelta_x'\n",
    "    \n",
    "    key3 = 't_end: final time / (s)'\n",
    "    replace3 = str(time) + '\tt_end: final time / (s)'\n",
    "    \n",
    "    key4 = 'Velocity / (m/s)'\n",
    "    replace4 = str(Velocity) + '\tVelocity / (m/s)'\n",
    "    \n",
    "    key5 = 'Diffusion / (m^2/s)'\n",
    "    replace5 = str(Difussion) + '\tDiffusion / (m^2/s)'\n",
    "    \n",
    "    key6 = '.14\t\tPartition'\n",
    "    replace6 = str(partition) + '\tPartition'\n",
    "    \n",
    "    key7 = 'Initial number of grains !! Warning: Maximum number 256 hard-coded!! (if<0, random distribution)'\n",
    "    replace7 = '-' + str(needle_number) + '\tInitial number of grains !! Warning: Maximum number 256 hard-coded!! (if<0, random distribution)'\n",
    "    \n",
    "    original_string = input_template.splitlines()\n",
    "    stop_before_last_line = 0\n",
    "    for line in original_string:\n",
    "        line = line.strip()\n",
    "\n",
    "        if(stop_before_last_line>0):\n",
    "            stop_before_last_line += 1\n",
    "\n",
    "        if(key0 in line):\n",
    "            changes0 = replace0\n",
    "        elif(key1 in line):\n",
    "            changes0 = replace1\n",
    "        elif(key2 in line):\n",
    "            changes0 = replace2\n",
    "        elif(key3 in line):\n",
    "            changes0 = replace3\n",
    "        elif(key4 in line):\n",
    "            changes0 = replace4\n",
    "        elif(key5 in line):\n",
    "            changes0 = replace5\n",
    "        elif(key6 in line):\n",
    "            changes0 = replace6\n",
    "        elif(key7 in line):\n",
    "            changes0 = replace7\n",
    "        else:\n",
    "            changes0 = line\n",
    "        if(stop_before_last_line < 3):\n",
    "            file_out.write(changes0 + '\\n')\n",
    "            #print(changes0, 'stop =', stop_before_last_line)\n",
    "        \n",
    "    file_out.close()"
   ]
  },
  {
   "cell_type": "markdown",
   "id": "c52ca1bf",
   "metadata": {},
   "source": [
    "### Function for creating a global launcher for all the simulations.\n",
    "The idea is to create one input file and one launch file (also called *sbatch file*) per simulation (so we can end with 100*2=200 files). And instead of launching one per one... we can create a global launcher. It will be called: \"sbatch_all.sh\" and we will launch it directly to slurm via: \"sh sbatch_all.sh\". This file will have as many lines as simulations. Each line will consist in something like this: \"sbatch My_sim_name.sh\". And this \"My_sim_same.sh\" is the launch file."
   ]
  },
  {
   "cell_type": "code",
   "execution_count": 6,
   "id": "82338148",
   "metadata": {},
   "outputs": [],
   "source": [
    "def create_global_run_file(simulations_path, path, out_list, project_name):\n",
    "    file_out = open(path + '/sbatch_all.sh', \"w\")\n",
    "    \n",
    "    for out in out_list:\n",
    "        file_out.write(out + '\\n')\n",
    "    \n",
    "    file_out.close()\n",
    "    \n",
    "    \n",
    "    file_scp = open(simulations_path + '/scp_' + project_name + '.sh', \"w\")\n",
    "    file_scp.write('scp -rp ' + project_name + '/*in' +  ' josep.barbera@kratos:/mnt/beegfs/home/josep.barbera/' + project_name + '\\n')\n",
    "    file_scp.write('scp -rp ' + project_name + '/*sh' +  ' josep.barbera@kratos:/mnt/beegfs/home/josep.barbera/' + project_name)"
   ]
  },
  {
   "cell_type": "markdown",
   "id": "a179e86e",
   "metadata": {},
   "source": [
    "## Project folder structure\n",
    "Here, we will establish a folder structure to organize the new simulation group efficiently."
   ]
  },
  {
   "cell_type": "code",
   "execution_count": 10,
   "id": "967ed480",
   "metadata": {},
   "outputs": [
    {
     "name": "stdout",
     "output_type": "stream",
     "text": [
      "Partition_coefficient_0.2  folder already exists\n",
      "  input_files  folder already exists\n",
      "  output_files  folder already exists\n",
      "  launchers  folder already exists\n"
     ]
    }
   ],
   "source": [
    "simulations_path = '/home/josepbarbera/Documents/Simulations/'  # this should be changed... that's my simulations path\n",
    "\n",
    "os.chdir(simulations_path)\n",
    "\n",
    "project_name = 'Partition_coefficient_0.2'\n",
    "project_path = simulations_path + '/' + project_name\n",
    "\n",
    "# check if project exists, if not, it is created\n",
    "if os.path.isdir(project_path): \n",
    "    print(project_name,' folder already exists')\n",
    "else:\n",
    "    os.mkdir(project_path)   \n",
    "    \n",
    "os.chdir(project_path)\n",
    "\n",
    "main_project_folders = ['input_files', 'output_files', 'launchers']\n",
    "\n",
    "# check if main project's folders exist, if not they are created\n",
    "for folder in main_project_folders:\n",
    "    folder_path = project_path + '/' + folder\n",
    "    if os.path.isdir(folder_path): \n",
    "        print(' ', folder, ' folder already exists')\n",
    "    else:\n",
    "        os.mkdir(folder_path)\n",
    "os.chdir(project_path)"
   ]
  },
  {
   "cell_type": "markdown",
   "id": "1bdab0fc",
   "metadata": {},
   "source": [
    "## Parameters\n",
    "Here, you may consider defining certain fixed parameters or values for your simulations. (I'm omitting mine for privacy reasons.)"
   ]
  },
  {
   "cell_type": "markdown",
   "id": "bbb37936",
   "metadata": {},
   "source": [
    "## Cluster"
   ]
  },
  {
   "cell_type": "code",
   "execution_count": 14,
   "id": "bab3101c",
   "metadata": {},
   "outputs": [],
   "source": [
    "executables_path = '/mnt/beegfs/home/josep.barbera/Codes' #this should be changed... that's my Codes directory"
   ]
  },
  {
   "cell_type": "markdown",
   "id": "a7f75aae",
   "metadata": {},
   "source": [
    "## Simulations matrix\n",
    "Here is the most important part of the code.\n",
    "\n",
    "Define your matrix of simulations. Things will change of course... but the main idea may help you."
   ]
  },
  {
   "cell_type": "code",
   "execution_count": 15,
   "id": "bc204551",
   "metadata": {},
   "outputs": [],
   "source": [
    "#             ([order, server,vel, Nneedles, gpus,dx,    Nx,  Ny, time, end name]) (for no end_name type 0)*Nneedles could be an array\n",
    "simulations = ([1,   'thor',     9, [9],   [0],   0.8,   630, 510, 200, \"longer\"],\n",
    "               [2,   'thor',    10, [7],   [1],   0.7,   630, 510, 120, \"longer\"])"
   ]
  },
  {
   "cell_type": "code",
   "execution_count": null,
   "id": "d5a60ad7",
   "metadata": {},
   "outputs": [],
   "source": [
    "## Here an example of a total amount of 32 simulations.\n",
    "#simulations = ([1, 4, [14, 18, 21, 30], [4, 5, 6, 7], 1.24, 630, 638, 120],\n",
    "#               [5, 5, [10, 15, 21, 30], [5, 6, 7, 4], 1.1, 630, 638, 120],\n",
    "#               [2, 6, [ 9, 15, 21, 30], [6, 7, 4, 5], 1.0, 630, 510, 100],\n",
    "#               [6, 7, [ 9, 14, 18, 21], [7, 4, 5, 6], 0.94, 630, 510, 100],\n",
    "#               [3, 8, [ 7, 14, 18, 21], [4, 5, 6, 7], 0.9, 630, 398, 90],\n",
    "#               [7, 9, [ 7, 10, 14, 18], [5, 6, 7, 4], 0.8, 630, 398, 90],\n",
    "#               [4, 10,[ 7, 10, 14, 18], [6, 7, 4, 5], 0.7, 630, 398, 90],\n",
    "#               [8, 9, [14, 18], [4, 5], 0.8, 1470, 398, 90],\n",
    "#               [9, 10,[10, 14], [6, 7], 0.7, 1470, 398, 90])"
   ]
  },
  {
   "cell_type": "markdown",
   "id": "8a634c46",
   "metadata": {},
   "source": [
    "### Other minor functions"
   ]
  },
  {
   "cell_type": "code",
   "execution_count": 16,
   "id": "24f11f81",
   "metadata": {},
   "outputs": [],
   "source": [
    "# Sorting list of tuples according to a key\n",
    "def first(n):  \n",
    "    return n[0] "
   ]
  },
  {
   "cell_type": "code",
   "execution_count": 17,
   "id": "e3fb49fe",
   "metadata": {},
   "outputs": [],
   "source": [
    "# function to sort the tuple     \n",
    "def sort(list_of_tuples):  \n",
    "    return sorted(list_of_tuples, key = first)"
   ]
  },
  {
   "cell_type": "code",
   "execution_count": 18,
   "id": "ffbfa69f",
   "metadata": {},
   "outputs": [],
   "source": [
    "# Dictionary for executables\n",
    "executables = {\n",
    "    'thor': 'DNNFF2DDIR_IRON_THOR_ELIM',\n",
    "    'ironman': 'DNNFF2DDIR_IRON_THOR_ELIM',\n",
    "    'obelix': 'DNNFF2DDIR_OBELIX_ELIM',\n",
    "    'asterix': 'DNNFF2DDIR_ASTERIX_ELIM',\n",
    "    'hulk': 'DNNFF2DDIR_HULK_ELIM'\n",
    "}"
   ]
  },
  {
   "cell_type": "markdown",
   "id": "63d4a037",
   "metadata": {},
   "source": [
    "## Function for automatizing the process.\n",
    "It is also a really important part of the code. It will iterate through your matrix and create for each simulation the input and the launch files. At the end it creates the global launcher.\n"
   ]
  },
  {
   "cell_type": "code",
   "execution_count": 19,
   "id": "de2a0f81",
   "metadata": {},
   "outputs": [],
   "source": [
    "def create_input_case(project_name, simulations_path, project_path, \n",
    "                      executables_path, simulations, k, D):\n",
    "    sorted_sims = sort(simulations)\n",
    "    out_list = []\n",
    "    j = 0\n",
    "    for i in range(len(sorted_sims)):\n",
    "        server = sorted_sims[i][1]\n",
    "        V = sorted_sims[i][2]\n",
    "        v = V\n",
    "        V = V * 1.e-5\n",
    "        Needle_array = sorted_sims[i][3]\n",
    "        GPUs = sorted_sims[i][4]\n",
    "        dx = sorted_sims[i][5]\n",
    "        Nx = sorted_sims[i][6]\n",
    "        Ny = sorted_sims[i][7]\n",
    "        t_end = sorted_sims[i][8]\n",
    "        end_name = sorted_sims [i][9]\n",
    "        j = 0\n",
    "        for needle in Needle_array:\n",
    "            GPU = GPUs[j]\n",
    "            d = str(D)\n",
    "            if isinstance(end_name, str):\n",
    "                jobname = 'v' + str(v) + '_N' + str(needle) + '_Nx' + str(Nx) \n",
    "                + '_dx' + str(dx) + '_D' + d[:d.rfind(\"e\")] + '_k' + str(k) \n",
    "                + '_AlCu_' + end_name\n",
    "            else:\n",
    "                jobname = 'v' + str(v) + '_N' + str(needle) + '_Nx' + str(Nx) \n",
    "                + '_dx' + str(dx) + '_D' + d[:d.rfind(\"e\")] + '_k' + str(k) \n",
    "                + '_AlCu'\n",
    "            create_run_file(project_path, server, GPU, executables[server], \n",
    "                            executables_path, jobname)\n",
    "            create_input_file(project_path, V, needle, dx, Nx, Ny, t_end, D, \n",
    "                              k, jobname)\n",
    "            out_list.append('sbatch '+ jobname + '.sh')\n",
    "            j = j + 1\n",
    "            \n",
    "    create_global_run_file(simulations_path, project_path, out_list, project_name)"
   ]
  },
  {
   "cell_type": "markdown",
   "id": "2ad8659e",
   "metadata": {},
   "source": [
    "## Here execution begins\n",
    "To initiate the process, exercise caution, as failing to do so may result in the creation of a substantial number of files."
   ]
  },
  {
   "cell_type": "code",
   "execution_count": 20,
   "id": "efa17e8b",
   "metadata": {},
   "outputs": [],
   "source": [
    "create_input_case(project_name, simulations_path, project_path, executables_path, simulations, k, D)"
   ]
  }
 ],
 "metadata": {
  "kernelspec": {
   "display_name": "Python 3 (ipykernel)",
   "language": "python",
   "name": "python3"
  },
  "language_info": {
   "codemirror_mode": {
    "name": "ipython",
    "version": 3
   },
   "file_extension": ".py",
   "mimetype": "text/x-python",
   "name": "python",
   "nbconvert_exporter": "python",
   "pygments_lexer": "ipython3",
   "version": "3.10.4"
  }
 },
 "nbformat": 4,
 "nbformat_minor": 5
}
